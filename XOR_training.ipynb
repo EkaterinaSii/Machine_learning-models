{
 "cells": [
  {
   "cell_type": "code",
   "execution_count": null,
   "id": "162bb17e-763b-41c3-a1b7-caca1828da31",
   "metadata": {},
   "outputs": [],
   "source": [
    "import numpy as np\n",
    "import matplotlib.pyplot as plt\n",
    "import random"
   ]
  },
  {
   "cell_type": "markdown",
   "id": "b91dc95c-3fc4-4dbc-9e93-88c9aec10c9d",
   "metadata": {},
   "source": [
    "### Now your task is to modify the network in the way, that xor has 4 input pins, and then teach the network, and visualize the results."
   ]
  },
  {
   "cell_type": "code",
   "execution_count": 9,
   "id": "690a743b-4864-418e-b773-ccda86647930",
   "metadata": {},
   "outputs": [
    {
     "name": "stdout",
     "output_type": "stream",
     "text": [
      "(4, 30)\n",
      "(4, 30)\n"
     ]
    },
    {
     "data": {
      "image/png": "[encoded data removed]",
      "text/plain": [
       "<Figure size 432x288 with 1 Axes>"
      ]
     },
     "metadata": {
      "needs_background": "light"
     },
     "output_type": "display_data"
    }
   ],
   "source": [
    "inputs = 4\n",
    "hidden_dim = 30\n",
    "output_dim = 1\n",
    "\n",
    "input_data = np.array([[0,0,0,0],[1,0,0,0],[0,1,0,0],[0,0,1,0],[0,0,0,1],[1,1,0,0],[1,0,1,0],[1,0,0,1],[0,1,1,0],[0,1,0,1],[0,0,1,1],[1,1,1,0],[1,0,1,1],[0,1,1,1],[1,1,0,1],[1,1,1,1]])\n",
    "output_labels = np.array([[0],[1],[1],[1],[1],[0],[0],[0],[0],[0],[0],[0],[0],[0],[0],[0]])\n",
    "\n",
    "weights_layer1 = np.random.randn(4,30)\n",
    "weights_layer2 = np.random.randn(30,1)\n",
    "\n",
    "learning_rate = 0.0002\n",
    "\n",
    "loss_array = []\n",
    "epochs = 1000\n",
    "\n",
    "for _ in range(epochs):\n",
    "    # the feed forward\n",
    "    layer1 = input_data.dot(weights_layer1)\n",
    "    layer1_after_relu = np.maximum(0, layer1)\n",
    "    \n",
    "    output_layer = layer1_after_relu.dot(weights_layer2)\n",
    "    \n",
    "    # we calculate the error \n",
    "    loss = np.square(output_layer - output_labels).sum()\n",
    "    loss_array.append(loss)\n",
    "    \n",
    "    grad_output_pred = 2.0 * (output_layer - output_labels)\n",
    "    \n",
    "    grad_l2 = layer1_after_relu.T.dot(grad_output_pred)\n",
    "    grad_hidden_relu = grad_output_pred.dot(weights_layer2.T)\n",
    "    \n",
    "    grad_l1 = input_data.T.dot(grad_hidden_relu)\n",
    "    \n",
    "    #update the weights\n",
    "    weights_layer1 -= learning_rate * grad_l1\n",
    "    weights_layer2 -= learning_rate * grad_l2\n",
    "    \n",
    "print(grad_l1.shape)\n",
    "print(weights_layer1.shape)\n",
    "plt.plot(loss_array)\n",
    "plt.show()\n",
    "    "
   ]
  },
  {
   "cell_type": "code",
   "execution_count": 97,
   "id": "9b7e3959-474c-45d5-a6c3-b5a86134f536",
   "metadata": {},
   "outputs": [
    {
     "name": "stdout",
     "output_type": "stream",
     "text": [
      "[-0.57668954]\n",
      "[0.]\n",
      "[0.81644064]\n",
      "[-0.57595801]\n"
     ]
    }
   ],
   "source": [
    "input_data = np.array([1,1,1,1])\n",
    "\n",
    "layer1 = input_data.dot(weights_layer1)\n",
    "layer1_after_relu = np.maximum(0, layer1)\n",
    "output_layer = layer1_after_relu.dot(weights_layer2)\n",
    "\n",
    "print(output_layer)\n",
    "\n",
    "input_data = np.array([0,0,0,0])\n",
    "\n",
    "layer1 = input_data.dot(weights_layer1)\n",
    "layer1_after_relu = np.maximum(0, layer1)\n",
    "output_layer = layer1_after_relu.dot(weights_layer2)\n",
    "\n",
    "print(output_layer)\n",
    "\n",
    "input_data = np.array([1,0,0,0])\n",
    "\n",
    "layer1 = input_data.dot(weights_layer1)\n",
    "layer1_after_relu = np.maximum(0, layer1)\n",
    "output_layer = layer1_after_relu.dot(weights_layer2)\n",
    "\n",
    "print(output_layer)\n",
    "\n",
    "input_data = np.array([1,0,1,1])\n",
    "\n",
    "layer1 = input_data.dot(weights_layer1)\n",
    "layer1_after_relu = np.maximum(0, layer1)\n",
    "output_layer = layer1_after_relu.dot(weights_layer2)\n",
    "\n",
    "print(output_layer)"
   ]
  }
 ],
 "metadata": {
  "kernelspec": {
   "display_name": "Python 3 (ipykernel)",
   "language": "python",
   "name": "python3"
  },
  "language_info": {
   "codemirror_mode": {
    "name": "ipython",
    "version": 3
   },
   "file_extension": ".py",
   "mimetype": "text/x-python",
   "name": "python",
   "nbconvert_exporter": "python",
   "pygments_lexer": "ipython3",
   "version": "3.8.10"
  }
 },
 "nbformat": 4,
 "nbformat_minor": 5
}
